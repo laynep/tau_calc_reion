{
 "cells": [
  {
   "cell_type": "code",
   "execution_count": 1,
   "metadata": {
    "collapsed": true
   },
   "outputs": [],
   "source": [
    "import numpy as np\n",
    "import matplotlib.pyplot as plt\n",
    "import pandas as pd\n",
    "%matplotlib inline"
   ]
  },
  {
   "cell_type": "code",
   "execution_count": null,
   "metadata": {
    "collapsed": true
   },
   "outputs": [],
   "source": [
    "data = np.loadtxt('/Users/laynep/work/reionization/importance_sampler/python_implementation/'+'lcdm_tau_lensing.txt')\n",
    "\n",
    "#histbins = plt.hist(data,bins=35,range=[0.0675,0.0901],normed=True)\n",
    "histbins = plt.hist(data,bins=35,range=[0.06,0.095],normed=True)\n",
    "\n",
    "\n",
    "for x in zip(histbins[0],histbins[1]):\n",
    "    print x[0],x[1]"
   ]
  },
  {
   "cell_type": "code",
   "execution_count": null,
   "metadata": {
    "collapsed": true
   },
   "outputs": [],
   "source": [
    "#Best-fit Schecter parameters from 1506.01035\n",
    "\n",
    "z_list = np.linspace(0,15,25)\n",
    "M_list = -20.97 + 0.17*(z_list-6.0)\n",
    "phi_list = 0.45*10.0**(-0.21*(z_list-6.0))*1e-3\n",
    "alpha_list = -1.91 - 0.13*(z_list-6.0)\n",
    "\n",
    "for out in zip(z_list,phi_list,M_list,alpha_list):\n",
    "    print out[:]"
   ]
  },
  {
   "cell_type": "code",
   "execution_count": 58,
   "metadata": {
    "collapsed": false
   },
   "outputs": [],
   "source": [
    "#Planck chains\n",
    "data1 = np.loadtxt('/Users/laynep/work/planck_chains/COM_CosmoParams_fullGrid_R2.00/base/plikHM_TTTEEE_lowTEB/base_plikHM_TTTEEE_lowTEB_1.txt')\n",
    "data2 = np.loadtxt('/Users/laynep/work/planck_chains/COM_CosmoParams_fullGrid_R2.00/base/plikHM_TTTEEE_lowTEB/base_plikHM_TTTEEE_lowTEB_2.txt')\n",
    "data3 = np.loadtxt('/Users/laynep/work/planck_chains/COM_CosmoParams_fullGrid_R2.00/base/plikHM_TTTEEE_lowTEB/base_plikHM_TTTEEE_lowTEB_3.txt')\n",
    "data4 = np.loadtxt('/Users/laynep/work/planck_chains/COM_CosmoParams_fullGrid_R2.00/base/plikHM_TTTEEE_lowTEB/base_plikHM_TTTEEE_lowTEB_4.txt')\n",
    "\n",
    "data = np.concatenate((data1,data2,data3,data4),axis=0)"
   ]
  },
  {
   "cell_type": "code",
   "execution_count": 42,
   "metadata": {
    "collapsed": true
   },
   "outputs": [],
   "source": [
    "#Planck chains\n",
    "data1 = np.loadtxt('/Users/laynep/work/planck_chains/COM_CosmoParams_fullGrid_R2.00/base/plikHM_TT_lowl_lensing/base_plikHM_TT_lowl_lensing_post_BAO_1.txt')\n",
    "data2 = np.loadtxt('/Users/laynep/work/planck_chains/COM_CosmoParams_fullGrid_R2.00/base/plikHM_TT_lowl_lensing/base_plikHM_TT_lowl_lensing_post_BAO_2.txt')\n",
    "data3 = np.loadtxt('/Users/laynep/work/planck_chains/COM_CosmoParams_fullGrid_R2.00/base/plikHM_TT_lowl_lensing/base_plikHM_TT_lowl_lensing_post_BAO_3.txt')\n",
    "data4 = np.loadtxt('/Users/laynep/work/planck_chains/COM_CosmoParams_fullGrid_R2.00/base/plikHM_TT_lowl_lensing/base_plikHM_TT_lowl_lensing_post_BAO_4.txt')\n",
    "\n",
    "datax = np.concatenate((data1,data2,data3,data4),axis=0)"
   ]
  },
  {
   "cell_type": "code",
   "execution_count": 56,
   "metadata": {
    "collapsed": false
   },
   "outputs": [],
   "source": [
    "#Planck chains\n",
    "data1 = np.loadtxt('/Users/laynep/work/planck_chains/COM_CosmoParams_fullGrid_R2.00/base/plikHM_TTTEEE_lowTEB_lensing/base_plikHM_TTTEEE_lowTEB_lensing_1.txt')\n",
    "data2 = np.loadtxt('/Users/laynep/work/planck_chains/COM_CosmoParams_fullGrid_R2.00/base/plikHM_TTTEEE_lowTEB_lensing/base_plikHM_TTTEEE_lowTEB_lensing_2.txt')\n",
    "data3 = np.loadtxt('/Users/laynep/work/planck_chains/COM_CosmoParams_fullGrid_R2.00/base/plikHM_TTTEEE_lowTEB_lensing/base_plikHM_TTTEEE_lowTEB_lensing_3.txt')\n",
    "data4 = np.loadtxt('/Users/laynep/work/planck_chains/COM_CosmoParams_fullGrid_R2.00/base/plikHM_TTTEEE_lowTEB_lensing/base_plikHM_TTTEEE_lowTEB_lensing_4.txt')\n",
    "\n",
    "datay = np.concatenate((data1,data2,data3,data4),axis=0)"
   ]
  },
  {
   "cell_type": "code",
   "execution_count": 57,
   "metadata": {
    "collapsed": false
   },
   "outputs": [
    {
     "data": {
      "image/png": "[encoded data removed]",
      "text/plain": [
       "<matplotlib.figure.Figure at 0x11cb21950>"
      ]
     },
     "metadata": {},
     "output_type": "display_data"
    }
   ],
   "source": [
    "x1,x2,x3 = plt.hist(data[:,5],bins=40,normed=True,histtype='step')\n",
    "x1,x2,x3 = plt.hist(datax[:,5],bins=35,normed=True,histtype='step')\n",
    "x1,x2,x3 = plt.hist(datay[:,5],bins=35,normed=True,histtype='step')\n",
    "\n"
   ]
  },
  {
   "cell_type": "code",
   "execution_count": 84,
   "metadata": {
    "collapsed": false
   },
   "outputs": [
    {
     "name": "stdout",
     "output_type": "stream",
     "text": [
      "0.0222814855054 0.118221458591 3.06928983613 0.968595931916 67.9736781881 0.816765406081\n"
     ]
    }
   ],
   "source": [
    "test = map(lambda x: np.mean(datax[:,x]), xrange(len(datax[0])))\n",
    "ombh2 = test[2]\n",
    "ommh2 = test[3]\n",
    "logA = test[6]\n",
    "ns = test[7]\n",
    "H0 = test[23]\n",
    "#H0 = test[35]\n",
    "sig8 = test[29]\n",
    "#sig8 = test[41]\n",
    "\n",
    "\n",
    "print ombh2, ommh2, logA, ns, H0, sig8"
   ]
  },
  {
   "cell_type": "code",
   "execution_count": 106,
   "metadata": {
    "collapsed": false
   },
   "outputs": [
    {
     "data": {
      "text/plain": [
       "6.011737374832779e-06"
      ]
     },
     "execution_count": 106,
     "metadata": {},
     "output_type": "execute_result"
    }
   ],
   "source": [
    "10.0**-5.221"
   ]
  },
  {
   "cell_type": "code",
   "execution_count": null,
   "metadata": {
    "collapsed": true
   },
   "outputs": [],
   "source": []
  }
 ],
 "metadata": {
  "kernelspec": {
   "display_name": "Python 2",
   "language": "python",
   "name": "python2"
  },
  "language_info": {
   "codemirror_mode": {
    "name": "ipython",
    "version": 2
   },
   "file_extension": ".py",
   "mimetype": "text/x-python",
   "name": "python",
   "nbconvert_exporter": "python",
   "pygments_lexer": "ipython2",
   "version": "2.7.11"
  }
 },
 "nbformat": 4,
 "nbformat_minor": 0
}
