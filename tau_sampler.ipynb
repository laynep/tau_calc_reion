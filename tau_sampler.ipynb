{
 "cells": [
  {
   "cell_type": "code",
   "execution_count": 26,
   "metadata": {
    "collapsed": false
   },
   "outputs": [],
   "source": [
    "import numpy as np\n",
    "from scipy.integrate import ode\n",
    "from scipy.integrate import quad\n",
    "from scipy.interpolate import interp1d\n",
    "import matplotlib.pyplot as plt\n",
    "import emcee\n",
    "\n",
    "%matplotlib inline"
   ]
  },
  {
   "cell_type": "code",
   "execution_count": 28,
   "metadata": {
    "collapsed": false
   },
   "outputs": [
    {
     "data": {
      "text/plain": [
       "2.7967545306101829"
      ]
     },
     "execution_count": 28,
     "metadata": {},
     "output_type": "execute_result"
    }
   ],
   "source": [
    "#Define the redshift evolution of f_esc\n",
    "f_esc_flag ='Power'\n",
    "if f_esc_flag == 'Power':\n",
    "    \n",
    "    def f_esc_funct(z,f_esc):\n",
    "        f6 = f_esc[0]\n",
    "        alpha = f_esc[1]\n",
    "        \n",
    "        out = f6*((1.0+z)/7.0)**alpha\n",
    "        \n",
    "        return np.min([np.max([0.0, out]), 1.0])\n",
    "    \n",
    "elif f_esc_flag == 'Polint':\n",
    "    \n",
    "    def f_esc_funct(z,f_esc):\n",
    "        z_pos = np.linspace(3,20,10)\n",
    "        \n",
    "        if z< np.min(z_pos):\n",
    "            return f_esc[0]\n",
    "        elif z>np.max(z_pos):\n",
    "            return f_esc[-1]\n",
    "        else:\n",
    "            f_funct = interp1d(z_pos, f_esc, kind='cubic')\n",
    "            return np.min([np.max([0.0, f_funct(z)]), 1.0])\n",
    "\n",
    "else:\n",
    "    \n",
    "    raise Exception('This f_esc function not implemented.')\n",
    "\n",
    "#Fixed params\n",
    "class global_params():\n",
    "    \n",
    "    def __init__(self):\n",
    "        \"\"\"Some general set up required.\"\"\"\n",
    "    \n",
    "        self.m_bright = -35.0\n",
    "        self.photon_norm_factor = 25.2\n",
    "        \n",
    "        self.T0_IGM = 2.0e4\n",
    "        self.X_h = 0.747\n",
    "        self.HeII_z = 3.5\n",
    "        \n",
    "        self.schecter_fname = '/Users/laynep/work/reionization/importance_sampler/python_implementation/schecter_params.txt'\n",
    "        schecter = np.loadtxt(self.schecter_fname)\n",
    "        self.z_list = schecter[:,0]\n",
    "        self.phi_list = schecter[:,1]\n",
    "        self.m_list = schecter[:,2]\n",
    "        self.alpha_list = schecter[:,3]\n",
    "        \n",
    "        self.mpc_to_cm = 3.086e24\n",
    "        self.mass_h = 1.674e-24\n",
    "        self.G_newton = 6.674e-8\n",
    "        self.sigT = 6.6524e-25\n",
    "        self.c = 2.998e10\n",
    "        \n",
    "        #Can also be iterated over if edit the unpack routine\n",
    "        self.h = 0.7\n",
    "        self.ombh2 = 0.045*self.h**2\n",
    "        self.ommh2 = (0.045+0.355)*self.h**2\n",
    "        \n",
    "        self.tau_post_fname ='/Users/laynep/work/reionization/importance_sampler/python_implementation/posterior_tauonly.txt'\n",
    "        tau_pdf = np.loadtxt(self.tau_post_fname)\n",
    "        self.tau_list = tau_pdf[:,1]\n",
    "        self.taupdf_list = tau_pdf[:,0]\n",
    "\n",
    "    \n",
    "globe = global_params()\n",
    "\n",
    "def unpack(x):\n",
    "    \n",
    "    y = np.array(x)\n",
    "    \n",
    "    if f_esc_flag==\"Power\":\n",
    "        offset=2\n",
    "        f_esc = x[0:offset]\n",
    "    else:\n",
    "        offset=10\n",
    "        f_esc = x[0:offset]\n",
    "        \n",
    "    c_hii = x[offset]\n",
    "    m_sf = x[offset+1]\n",
    "    m_evol = x[offset+2]\n",
    "    \n",
    "    #Can get these either from x or from fixed\n",
    "    ombh2 = globe.ombh2\n",
    "    ommh2 = globe.ommh2\n",
    "    return f_esc, c_hii, m_sf, m_evol, ombh2, ommh2\n",
    "\n",
    "def mag_to_lumin(mag):\n",
    "    \"\"\"Converts AB magnitude to luminosity.\"\"\"\n",
    "    conv_factor = 4.345e20\n",
    "    return float(conv_factor*10.0**(-mag/2.5))\n",
    "\n",
    "def schecter_params(z):\n",
    "    \"\"\"Get the Schecter parameters as a function of redshift.  Based on the Scorch I paper.\"\"\"\n",
    "\n",
    "    #Use range limits if z extends beyond the interpolation list\n",
    "    if z<np.min(globe.z_list):\n",
    "        phi_star, m_star, alpha_star = globe.phi_list[0],globe.m_list[0],globe.alpha_list[0]\n",
    "    elif z>np.max(globe.z_list):\n",
    "        phi_star, m_star, alpha_star = globe.phi_list[-1], globe.m_list[-1], globe.alpha_list[-1]\n",
    "\n",
    "    else:\n",
    "        #Interpolate\n",
    "        phi, m, alpha = map(lambda x: interp1d(globe.z_list,x,kind='cubic'),\n",
    "                            [globe.phi_list, globe.m_list, globe.alpha_list])\n",
    "\n",
    "        phi_star, m_star, alpha_star = phi(z), m(z), alpha(z)\n",
    "\n",
    "    L_star = mag_to_lumin(m_star)\n",
    "\n",
    "    #Convert phi into cgs --- currently Mpc^-3\n",
    "    phi_star *= globe.mpc_to_cm**(-3.0)\n",
    "\n",
    "    return float(phi_star), float(L_star), float(alpha_star)\n",
    "\n",
    "def ioniz_emiss(z, m_sf, m_evol, f_esc):\n",
    "    m_faint = m_sf + m_evol*(z-6.0)\n",
    "    L_bright = mag_to_lumin(globe.m_bright)\n",
    "    L_faint = mag_to_lumin(m_faint)\n",
    "\n",
    "    phi_star, L_star, alpha = schecter_params(z)\n",
    "\n",
    "    prefactor = -2.5/np.log(10.0)\n",
    "    prefactor *= 10.0**(globe.photon_norm_factor)\n",
    "    prefactor *= f_esc_funct(z, f_esc)*phi_star*L_star\n",
    "\n",
    "    return prefactor*(alpha+1.0)**(-1.0)*(L_faint/L_star)**(alpha+1.0)\n",
    "\n",
    "def t_recomb(z, c_hii):\n",
    "    prefactor = 0.93*1e9*365.25*24.0*60.0*60.0 #Gyr to sec\n",
    "    c_term = (c_hii/3.0)**(-1.0)\n",
    "    t_term = (globe.T0_IGM/2.0e4)**0.7\n",
    "    z_term = ((1.0+z)/7.0)**(-3.0)\n",
    "    return prefactor*c_term*t_term*z_term\n",
    "\n",
    "def comov_h_density(ombh2):\n",
    "    prefactor = (3.0/8.0/np.pi/globe.G_newton)*1e4*(1e5/globe.mpc_to_cm)**2\n",
    "\n",
    "    return prefactor*(globe.X_h/globe.mass_h)*ombh2\n",
    "\n",
    "def hubble(z, ommh2):\n",
    "    h2 = 1e2**2 *(ommh2*(1.0+z)**3.0)\n",
    "    return np.sqrt(h2)*1e5/globe.mpc_to_cm\n",
    "\n",
    "def electron_from_helium(z):\n",
    "    if z > globe.HeII_z:\n",
    "        return 1.0\n",
    "    else:\n",
    "        return 2.0\n",
    "          \n",
    "\n",
    "def tau_calculator(x):\n",
    "    \"\"\"Calculate the Thomson optical depth from the galaxy reionization parameters.\"\"\"\n",
    "    f_esc, c_hii, m_sf, m_evol, ombh2, ommh2 = unpack(x)\n",
    "    \n",
    "    Q0 = 2.1979099400481504e-004 #From CAMB, connects to residual ionization from recombination\n",
    "    \n",
    "    def derivs(z, Q):\n",
    "        \"\"\"The Q'(z0) = derivs(z, Q)\"\"\"\n",
    "        \n",
    "        hub = hubble(z, ommh2)\n",
    "        trec = t_recomb(z, c_hii)\n",
    "        nh = comov_h_density(ombh2)\n",
    "        ion = ioniz_emiss(z,m_sf, m_evol, f_esc)\n",
    "        \n",
    "        return -1.0*(1.0/hub/(1.0+z))*(ion/nh/(1.0+z)**3.0 - Q/trec)\n",
    "    \n",
    "    #Solve the ODE for the volume filling factor Q\n",
    "    solver = ode(derivs).set_integrator(\"vode\")\n",
    "    \n",
    "    z0= 25.0\n",
    "    solver.set_initial_value(Q0,z0)\n",
    "    \n",
    "    dz = -z0/100.0\n",
    "    z_ode = []\n",
    "    Q_ode = []\n",
    "    while solver.successful() and solver.t > 0.0 and solver.y<1.0 and solver.y>0.0:\n",
    "        solver.integrate(solver.t + dz)\n",
    "        z_ode.append(solver.t)\n",
    "        Q_ode.append(solver.y)\n",
    "        #print solver.t, solver.y\n",
    "        \n",
    "        \n",
    "    #Set up interpolating function\n",
    "    naive_Q = interp1d(np.array(z_ode),np.array(Q_ode).flatten(),kind='cubic')\n",
    "    def Q_of_z(z):\n",
    "        #Volume filling factor\n",
    "        if z<np.min(z_ode):\n",
    "            Q=1.0\n",
    "        elif z > np.max(z_ode):\n",
    "            Q=Q_ode[0]\n",
    "        else:\n",
    "            Q = np.max([np.min([1.0,naive_Q(z)]),0.0])\n",
    "        \n",
    "        return Q\n",
    "        \n",
    "    #Integrate Q to get \\tau\n",
    "    def tau_integrand(z):\n",
    "        prefactor = globe.sigT*globe.c*1e-2*comov_h_density(ombh2)*globe.mpc_to_cm/1e5/np.sqrt(ommh2)\n",
    "        \n",
    "        integrand = Q_of_z(z)*np.sqrt(1.0+z)*(1.0+(1.0-globe.X_h)/(4.0*globe.X_h)*electron_from_helium(z))\n",
    "        \n",
    "        return prefactor*integrand\n",
    "    \n",
    "    #Calculate \\tau\n",
    "    (tau, dtau) = quad(tau_integrand, 0.0, z0)\n",
    "    \n",
    "    if dtau > 1e-4:\n",
    "        raise Exception('tau integrator has large error.')\n",
    "    \n",
    "    return tau, Q_of_z\n",
    "\n",
    "\n",
    "def logprior(x):\n",
    "    f_esc, c_hii, m_sf, m_evol, ombh2, ommh2 = unpack(x)\n",
    "    \n",
    "    bad = False\n",
    "    const = 1.0  #Unnormalized prior\n",
    "\n",
    "    #Prior ranges\n",
    "    if f_esc_flag=='Power':\n",
    "        if f_esc[0]<0.0 or f_esc[0]>1.0:\n",
    "            bad = True\n",
    "        elif f_esc[1]<0.0 or f_esc[1]>4.0:\n",
    "            bad = True\n",
    "    elif f_esc_flag==\"Polint\":\n",
    "        if any(f_esc<0.0) or any(f_esc>1.0):\n",
    "            bad = True\n",
    "    if c_hii<1.0 or c_hii>5.0:\n",
    "        bad = True\n",
    "    if m_sf<-11.0 or m_sf >-9.5:\n",
    "        bad = True\n",
    "    if m_evol <-0.035 or m_evol>-0.031:\n",
    "        bad = True\n",
    "        \n",
    "    if bad:\n",
    "        return -np.inf\n",
    "    else:\n",
    "        return const\n",
    "\n",
    "def loglike(tau):\n",
    "    #Likelihood just from the LCDM tau values (tau-only or cosmo marginalized)\n",
    "    post_funct = interp1d(globe.tau_list, globe.taupdf_list,kind='cubic')\n",
    "    \n",
    "    if tau<np.min(globe.tau_list) or tau > np.max(globe.tau_list):\n",
    "        return -np.inf\n",
    "    else:\n",
    "    \n",
    "        #print \"This is post_funct\", post_funct(tau)\n",
    "        post = np.max([0.0,post_funct(tau)])\n",
    "                \n",
    "        if post==0.0:\n",
    "            return -np.inf\n",
    "        else:\n",
    "            return np.log(post)\n",
    "    \n",
    "\n",
    "def logpost(x):\n",
    "\n",
    "    f_esc, c_hii, m_sf, m_evol, ombh2, ommh2 = unpack(x)\n",
    "        \n",
    "    prior = logprior(x)\n",
    "    \n",
    "    #Likelihood\n",
    "    \n",
    "    tau, Q = tau_calculator(x)\n",
    "    \n",
    "    #Implement 2sig constraint from 1411.5375 as a step function\n",
    "    if Q(z=5.9)<0.84:\n",
    "        like = -np.inf\n",
    "    \n",
    "    else:\n",
    "        like = loglike(tau)\n",
    "    \n",
    "    #print \"tau and Q(5.9)\", tau, Q(5.9)\n",
    "    \n",
    "    \n",
    "    return prior + like\n",
    "\n",
    "\n",
    "xvect = [0.8, 4.0, 4.0, -10.0,-0.032]\n",
    "\n",
    "logpost(xvect)\n",
    "\n"
   ]
  },
  {
   "cell_type": "code",
   "execution_count": null,
   "metadata": {
    "collapsed": false,
    "scrolled": true
   },
   "outputs": [],
   "source": [
    "#Emcee sampler\n",
    "ndim = 5\n",
    "\n",
    "nwalkers = 250\n",
    "p0=[]\n",
    "for walker in xrange(nwalkers):\n",
    "    p0_here = []\n",
    "    p0_here.append(np.random.rand()) #f_6\n",
    "    p0_here.append(np.random.rand()*4.0) #\\alpha\n",
    "    p0_here.append(np.random.rand()*(5.0-1.0)+1.0) #C_HII\n",
    "    p0_here.append(np.random.rand()*(-9.5+11.0) - 11.0) #M_SF\n",
    "    p0_here.append(np.random.rand()*(-0.031 + 0.035) - 0.035) #M_SF'\n",
    "    p0.append(p0_here)\n",
    "p0=np.array(p0)\n",
    "\n",
    "sampler = emcee.EnsembleSampler(nwalkers, ndim, logpost, threads=8)\n",
    "pos, prob, state = sampler.run_mcmc(p0, 100)\n",
    "\n",
    "#import matplotlib.pyplot as pl\n",
    "#%matplotlib inline\n",
    "\n",
    "#for i in range(ndim):\n",
    "#    pl.figure()\n",
    "#    pl.hist(sampler.flatchain[:,i], 100, color=\"k\", histtype=\"step\")\n",
    "#    pl.title(\"Dimension {0:d}\".format(i))\n"
   ]
  },
  {
   "cell_type": "code",
   "execution_count": 33,
   "metadata": {
    "collapsed": false
   },
   "outputs": [
    {
     "data": {
      "image/png": "[encoded data removed]",
      "text/plain": [
       "<matplotlib.figure.Figure at 0x115efdbd0>"
      ]
     },
     "metadata": {},
     "output_type": "display_data"
    },
    {
     "data": {
      "image/png": "[encoded data removed]",
      "text/plain": [
       "<matplotlib.figure.Figure at 0x1019f5650>"
      ]
     },
     "metadata": {},
     "output_type": "display_data"
    },
    {
     "data": {
      "image/png": "[encoded data removed]",
      "text/plain": [
       "<matplotlib.figure.Figure at 0x1060f6750>"
      ]
     },
     "metadata": {},
     "output_type": "display_data"
    },
    {
     "data": {
      "image/png": "[encoded data removed]",
      "text/plain": [
       "<matplotlib.figure.Figure at 0x116440390>"
      ]
     },
     "metadata": {},
     "output_type": "display_data"
    },
    {
     "data": {
      "image/png": "[encoded data removed]",
      "text/plain": [
       "<matplotlib.figure.Figure at 0x1164ccbd0>"
      ]
     },
     "metadata": {},
     "output_type": "display_data"
    }
   ],
   "source": [
    "\n",
    "for i in range(ndim):\n",
    "    plt.figure()\n",
    "    plt.hist(sampler.flatchain[:,i], 100, color=\"k\", histtype=\"step\")\n",
    "    plt.title(\"Dimension {0:d}\".format(i))"
   ]
  },
  {
   "cell_type": "code",
   "execution_count": null,
   "metadata": {
    "collapsed": false
   },
   "outputs": [],
   "source": [
    "xplot = np.linspace(0,25.0,100)\n",
    "#yplot = map(lambda x: f_esc_funct(x, np.array([0.8,4.0])), xplot)\n",
    "#yplot2 = map(lambda x: f_esc_funct(x, np.array([0.4005,4.0])), xplot)\n",
    "\n",
    "f1=np.random.rand(10)\n",
    "f2=np.random.rand(10)\n",
    "yplot = map(lambda x: f_esc_funct(x, f1), xplot)\n",
    "yplot2 = map(lambda x: f_esc_funct(x, f2), xplot)\n",
    "\n",
    "plt.plot(xplot,yplot)\n",
    "plt.plot(xplot,yplot2)"
   ]
  },
  {
   "cell_type": "code",
   "execution_count": null,
   "metadata": {
    "collapsed": false
   },
   "outputs": [],
   "source": [
    "np.random.rand(10)"
   ]
  },
  {
   "cell_type": "code",
   "execution_count": null,
   "metadata": {
    "collapsed": false
   },
   "outputs": [],
   "source": [
    "np.diag(np.ones(2))"
   ]
  },
  {
   "cell_type": "code",
   "execution_count": null,
   "metadata": {
    "collapsed": false
   },
   "outputs": [],
   "source": [
    "emcee.__version__"
   ]
  },
  {
   "cell_type": "code",
   "execution_count": null,
   "metadata": {
    "collapsed": false
   },
   "outputs": [],
   "source": [
    "testx=[ 0.86680059,  0.69192685,  1.3270186,  -9.83736021, -0.03145924]\n",
    "logpost(testx)"
   ]
  },
  {
   "cell_type": "code",
   "execution_count": null,
   "metadata": {
    "collapsed": true
   },
   "outputs": [],
   "source": []
  }
 ],
 "metadata": {
  "kernelspec": {
   "display_name": "Python 2",
   "language": "python",
   "name": "python2"
  },
  "language_info": {
   "codemirror_mode": {
    "name": "ipython",
    "version": 2
   },
   "file_extension": ".py",
   "mimetype": "text/x-python",
   "name": "python",
   "nbconvert_exporter": "python",
   "pygments_lexer": "ipython2",
   "version": "2.7.11"
  }
 },
 "nbformat": 4,
 "nbformat_minor": 0
}
